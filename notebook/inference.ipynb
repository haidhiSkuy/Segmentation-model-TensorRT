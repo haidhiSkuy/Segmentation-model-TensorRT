{
 "cells": [
  {
   "cell_type": "code",
   "execution_count": 1,
   "metadata": {},
   "outputs": [],
   "source": [
    "import cv2\n",
    "import time\n",
    "import pynvml\n",
    "import pycuda.autoinit\n",
    "from tqdm import tqdm\n",
    "import pycuda.driver as cuda\n",
    "import matplotlib.pyplot as plt\n",
    "from trt_py.inferencer import TensorRTInfer\n",
    "from trt_py.image_batcher import ImageBatcher"
   ]
  },
  {
   "cell_type": "code",
   "execution_count": 2,
   "metadata": {},
   "outputs": [],
   "source": [
    "pynvml.nvmlInit()\n",
    "handle = pynvml.nvmlDeviceGetHandleByIndex(0)\n",
    "\n",
    "def print_gpu_stats():\n",
    "    # Memory Info\n",
    "    mem_info = pynvml.nvmlDeviceGetMemoryInfo(handle)\n",
    "    gpu_used_mb = mem_info.used / 1024 ** 2\n",
    "    temp = pynvml.nvmlDeviceGetTemperature(handle, pynvml.NVML_TEMPERATURE_GPU) \n",
    "    power = pynvml.nvmlDeviceGetPowerUsage(handle) / 1000  # Convert from milliwatts to watts\n",
    "    \n",
    "    return gpu_used_mb, temp, power"
   ]
  },
  {
   "cell_type": "markdown",
   "metadata": {},
   "source": [
    "# TensorRT Inference"
   ]
  },
  {
   "cell_type": "code",
   "execution_count": 3,
   "metadata": {},
   "outputs": [],
   "source": [
    "def inference(model_path, image_path): \n",
    "    inference = TensorRTInfer(model_path)\n",
    "    input_shape, input_dtype = inference.input_spec()\n",
    "\n",
    "    batcher = ImageBatcher(\n",
    "        input=image_path, \n",
    "        shape=input_shape, \n",
    "        dtype=input_dtype\n",
    "    )\n",
    "\n",
    "    total_data = 12475\n",
    "\n",
    "    exec_time = 0\n",
    "    gpu_usage = 0 \n",
    "    temp = 0 \n",
    "    power = 0\n",
    "\n",
    "    all_data_time_start = time.time()\n",
    "    for batch, images in tqdm(batcher.get_batch()):\n",
    "        start_time = time.time()\n",
    "        out = inference.infer(batch)\n",
    "        end_time = time.time()\n",
    "        exec_time += end_time - start_time\n",
    "\n",
    "        gpu_usage_, temp_, power_ = print_gpu_stats()\n",
    "        gpu_usage += gpu_usage_ \n",
    "        temp += temp_ \n",
    "        power += power_\n",
    "\n",
    "    exec_time /= total_data \n",
    "    gpu_usage /= total_data \n",
    "    temp /= total_data \n",
    "    power /= total_data\n",
    "    \n",
    "    all_data_time_end = time.time()\n",
    "    all_data_exec_time = all_data_time_end - all_data_time_start \n",
    "\n",
    "    result = { \n",
    "        \"model\" : model_path, \n",
    "        \"total_execution_time\" : all_data_exec_time, \n",
    "        \"average_time_per_image\" : exec_time, \n",
    "        \"average gpu usage\" : gpu_usage, \n",
    "        \"average temperature\" : temp, \n",
    "        \"average power (watt)\" : power\n",
    "    }\n",
    "    return result"
   ]
  },
  {
   "cell_type": "code",
   "execution_count": 4,
   "metadata": {},
   "outputs": [
    {
     "name": "stderr",
     "output_type": "stream",
     "text": [
      "12475it [01:14, 167.54it/s]\n"
     ]
    }
   ],
   "source": [
    "image_path = \"dataset/images\"\n",
    "model_path = \"model/ghost_unet_1e-4--int8.engine\" \n",
    "\n",
    "result = inference(model_path, image_path)"
   ]
  },
  {
   "cell_type": "code",
   "execution_count": 6,
   "metadata": {},
   "outputs": [
    {
     "data": {
      "text/plain": [
       "{'model': 'model/ghost_unet_1e-4--int8.engine',\n",
       " 'total_execution_time': 74.46552515029907,\n",
       " 'average_time_per_image': 0.0029882674131221426,\n",
       " 'average gpu usage': 258.52734375,\n",
       " 'average temperature': 47.192625250501,\n",
       " 'average power (watt)': 12.926220120240783}"
      ]
     },
     "execution_count": 6,
     "metadata": {},
     "output_type": "execute_result"
    }
   ],
   "source": [
    "result"
   ]
  },
  {
   "cell_type": "code",
   "execution_count": null,
   "metadata": {},
   "outputs": [],
   "source": []
  }
 ],
 "metadata": {
  "kernelspec": {
   "display_name": "Python 3",
   "language": "python",
   "name": "python3"
  },
  "language_info": {
   "codemirror_mode": {
    "name": "ipython",
    "version": 3
   },
   "file_extension": ".py",
   "mimetype": "text/x-python",
   "name": "python",
   "nbconvert_exporter": "python",
   "pygments_lexer": "ipython3",
   "version": "3.10.6"
  }
 },
 "nbformat": 4,
 "nbformat_minor": 2
}
